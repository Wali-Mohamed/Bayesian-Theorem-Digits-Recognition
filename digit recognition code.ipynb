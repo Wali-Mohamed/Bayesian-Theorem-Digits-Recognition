{
 "cells": [
  {
   "cell_type": "markdown",
   "id": "2b13e436-3e22-437c-b41e-d2272d148d2c",
   "metadata": {},
   "source": [
    "# Import libraries"
   ]
  },
  {
   "cell_type": "code",
   "execution_count": 134,
   "id": "9577b4e8-95e4-4b12-b2ce-c7e5e65a42d9",
   "metadata": {},
   "outputs": [],
   "source": [
    "import pandas as pd\n",
    "import numpy as np\n",
    "from sklearn.model_selection import train_test_split\n",
    "from sklearn.neighbors  import KNeighborsClassifier\n",
    "from sklearn.pipeline import make_pipeline\n",
    "from scipy.stats import multivariate_normal as mvn\n",
    "import matplotlib.pyplot as plt\n",
    "from custommodels import KNNclassifier, GaussNB, Gauss\n",
    "from usefulfunctions import MinMaxScaler, MinMaxScaler2, accuracy"
   ]
  },
  {
   "cell_type": "code",
   "execution_count": null,
   "id": "1fe21f32-c566-41ca-af3f-a0aacbaf5dc5",
   "metadata": {},
   "outputs": [],
   "source": []
  },
  {
   "cell_type": "markdown",
   "id": "612f986e-bc23-4889-8e13-54a00f895464",
   "metadata": {},
   "source": [
    "# Prepare Data\n",
    "## Import"
   ]
  },
  {
   "cell_type": "code",
   "execution_count": 110,
   "id": "e905c92c-6403-4a60-a98b-3a74b416e700",
   "metadata": {},
   "outputs": [],
   "source": [
    "data=pd.read_csv('MNIST_train.csv')"
   ]
  },
  {
   "cell_type": "markdown",
   "id": "5a3a7f22-4eec-43e8-9878-10f0408934ae",
   "metadata": {},
   "source": [
    "## Explore"
   ]
  },
  {
   "cell_type": "code",
   "execution_count": 111,
   "id": "797aec7f-6491-4e72-bfa3-3d4ebedb1852",
   "metadata": {},
   "outputs": [],
   "source": [
    "data.drop(['Unnamed: 0'], axis=1, inplace=True)"
   ]
  },
  {
   "cell_type": "code",
   "execution_count": 112,
   "id": "099043fb-88f0-4a82-8b48-627d69304a97",
   "metadata": {},
   "outputs": [
    {
     "data": {
      "text/html": [
       "<div>\n",
       "<style scoped>\n",
       "    .dataframe tbody tr th:only-of-type {\n",
       "        vertical-align: middle;\n",
       "    }\n",
       "\n",
       "    .dataframe tbody tr th {\n",
       "        vertical-align: top;\n",
       "    }\n",
       "\n",
       "    .dataframe thead th {\n",
       "        text-align: right;\n",
       "    }\n",
       "</style>\n",
       "<table border=\"1\" class=\"dataframe\">\n",
       "  <thead>\n",
       "    <tr style=\"text-align: right;\">\n",
       "      <th></th>\n",
       "      <th>index</th>\n",
       "      <th>labels</th>\n",
       "      <th>0</th>\n",
       "      <th>1</th>\n",
       "      <th>2</th>\n",
       "      <th>3</th>\n",
       "      <th>4</th>\n",
       "      <th>5</th>\n",
       "      <th>6</th>\n",
       "      <th>7</th>\n",
       "      <th>...</th>\n",
       "      <th>774</th>\n",
       "      <th>775</th>\n",
       "      <th>776</th>\n",
       "      <th>777</th>\n",
       "      <th>778</th>\n",
       "      <th>779</th>\n",
       "      <th>780</th>\n",
       "      <th>781</th>\n",
       "      <th>782</th>\n",
       "      <th>783</th>\n",
       "    </tr>\n",
       "  </thead>\n",
       "  <tbody>\n",
       "    <tr>\n",
       "      <th>0</th>\n",
       "      <td>0</td>\n",
       "      <td>5</td>\n",
       "      <td>0</td>\n",
       "      <td>0</td>\n",
       "      <td>0</td>\n",
       "      <td>0</td>\n",
       "      <td>0</td>\n",
       "      <td>0</td>\n",
       "      <td>0</td>\n",
       "      <td>0</td>\n",
       "      <td>...</td>\n",
       "      <td>0</td>\n",
       "      <td>0</td>\n",
       "      <td>0</td>\n",
       "      <td>0</td>\n",
       "      <td>0</td>\n",
       "      <td>0</td>\n",
       "      <td>0</td>\n",
       "      <td>0</td>\n",
       "      <td>0</td>\n",
       "      <td>0</td>\n",
       "    </tr>\n",
       "    <tr>\n",
       "      <th>1</th>\n",
       "      <td>1</td>\n",
       "      <td>0</td>\n",
       "      <td>0</td>\n",
       "      <td>0</td>\n",
       "      <td>0</td>\n",
       "      <td>0</td>\n",
       "      <td>0</td>\n",
       "      <td>0</td>\n",
       "      <td>0</td>\n",
       "      <td>0</td>\n",
       "      <td>...</td>\n",
       "      <td>0</td>\n",
       "      <td>0</td>\n",
       "      <td>0</td>\n",
       "      <td>0</td>\n",
       "      <td>0</td>\n",
       "      <td>0</td>\n",
       "      <td>0</td>\n",
       "      <td>0</td>\n",
       "      <td>0</td>\n",
       "      <td>0</td>\n",
       "    </tr>\n",
       "    <tr>\n",
       "      <th>2</th>\n",
       "      <td>2</td>\n",
       "      <td>4</td>\n",
       "      <td>0</td>\n",
       "      <td>0</td>\n",
       "      <td>0</td>\n",
       "      <td>0</td>\n",
       "      <td>0</td>\n",
       "      <td>0</td>\n",
       "      <td>0</td>\n",
       "      <td>0</td>\n",
       "      <td>...</td>\n",
       "      <td>0</td>\n",
       "      <td>0</td>\n",
       "      <td>0</td>\n",
       "      <td>0</td>\n",
       "      <td>0</td>\n",
       "      <td>0</td>\n",
       "      <td>0</td>\n",
       "      <td>0</td>\n",
       "      <td>0</td>\n",
       "      <td>0</td>\n",
       "    </tr>\n",
       "    <tr>\n",
       "      <th>3</th>\n",
       "      <td>3</td>\n",
       "      <td>1</td>\n",
       "      <td>0</td>\n",
       "      <td>0</td>\n",
       "      <td>0</td>\n",
       "      <td>0</td>\n",
       "      <td>0</td>\n",
       "      <td>0</td>\n",
       "      <td>0</td>\n",
       "      <td>0</td>\n",
       "      <td>...</td>\n",
       "      <td>0</td>\n",
       "      <td>0</td>\n",
       "      <td>0</td>\n",
       "      <td>0</td>\n",
       "      <td>0</td>\n",
       "      <td>0</td>\n",
       "      <td>0</td>\n",
       "      <td>0</td>\n",
       "      <td>0</td>\n",
       "      <td>0</td>\n",
       "    </tr>\n",
       "    <tr>\n",
       "      <th>4</th>\n",
       "      <td>4</td>\n",
       "      <td>9</td>\n",
       "      <td>0</td>\n",
       "      <td>0</td>\n",
       "      <td>0</td>\n",
       "      <td>0</td>\n",
       "      <td>0</td>\n",
       "      <td>0</td>\n",
       "      <td>0</td>\n",
       "      <td>0</td>\n",
       "      <td>...</td>\n",
       "      <td>0</td>\n",
       "      <td>0</td>\n",
       "      <td>0</td>\n",
       "      <td>0</td>\n",
       "      <td>0</td>\n",
       "      <td>0</td>\n",
       "      <td>0</td>\n",
       "      <td>0</td>\n",
       "      <td>0</td>\n",
       "      <td>0</td>\n",
       "    </tr>\n",
       "  </tbody>\n",
       "</table>\n",
       "<p>5 rows × 786 columns</p>\n",
       "</div>"
      ],
      "text/plain": [
       "   index  labels  0  1  2  3  4  5  6  7  ...  774  775  776  777  778  779  \\\n",
       "0      0       5  0  0  0  0  0  0  0  0  ...    0    0    0    0    0    0   \n",
       "1      1       0  0  0  0  0  0  0  0  0  ...    0    0    0    0    0    0   \n",
       "2      2       4  0  0  0  0  0  0  0  0  ...    0    0    0    0    0    0   \n",
       "3      3       1  0  0  0  0  0  0  0  0  ...    0    0    0    0    0    0   \n",
       "4      4       9  0  0  0  0  0  0  0  0  ...    0    0    0    0    0    0   \n",
       "\n",
       "   780  781  782  783  \n",
       "0    0    0    0    0  \n",
       "1    0    0    0    0  \n",
       "2    0    0    0    0  \n",
       "3    0    0    0    0  \n",
       "4    0    0    0    0  \n",
       "\n",
       "[5 rows x 786 columns]"
      ]
     },
     "execution_count": 112,
     "metadata": {},
     "output_type": "execute_result"
    }
   ],
   "source": [
    "data.head()"
   ]
  },
  {
   "cell_type": "code",
   "execution_count": 113,
   "id": "d832d3c3-98a7-4b5d-a122-27d16c676737",
   "metadata": {},
   "outputs": [
    {
     "name": "stdout",
     "output_type": "stream",
     "text": [
      "<class 'pandas.core.frame.DataFrame'>\n",
      "RangeIndex: 60000 entries, 0 to 59999\n",
      "Columns: 786 entries, index to 783\n",
      "dtypes: int64(786)\n",
      "memory usage: 359.8 MB\n"
     ]
    }
   ],
   "source": [
    "data.info()"
   ]
  },
  {
   "cell_type": "code",
   "execution_count": 114,
   "id": "b2a97653-10bb-43eb-b73a-42fcf0a3cb5b",
   "metadata": {},
   "outputs": [
    {
     "data": {
      "text/plain": [
       "(60000, 786)"
      ]
     },
     "execution_count": 114,
     "metadata": {},
     "output_type": "execute_result"
    }
   ],
   "source": [
    "# Change data frame to arrays\n",
    "x=data.to_numpy()\n",
    "x.shape"
   ]
  },
  {
   "cell_type": "markdown",
   "id": "49fea166-094f-435f-bf9b-781064db2cc9",
   "metadata": {},
   "source": [
    "# EDA images"
   ]
  },
  {
   "cell_type": "code",
   "execution_count": 115,
   "id": "b93ccb67-ef4c-415e-8057-d6dc3d5e9db8",
   "metadata": {},
   "outputs": [
    {
     "data": {
      "text/plain": [
       "(60000, 784)"
      ]
     },
     "execution_count": 115,
     "metadata": {},
     "output_type": "execute_result"
    }
   ],
   "source": [
    "# reshape to make it possible for image\n",
    "X=x[:,2:]\n",
    "y=x[:,1]\n",
    "X.shape"
   ]
  },
  {
   "cell_type": "code",
   "execution_count": 116,
   "id": "d6142fa4-2e03-4e66-9bab-4d87b79ffa3d",
   "metadata": {},
   "outputs": [
    {
     "data": {
      "image/png": "[encoded data removed]",
      "text/plain": [
       "<Figure size 640x480 with 1 Axes>"
      ]
     },
     "metadata": {},
     "output_type": "display_data"
    }
   ],
   "source": [
    "plt.imshow(X[1].reshape(28,28), interpolation='nearest')\n",
    "plt.show;"
   ]
  },
  {
   "cell_type": "code",
   "execution_count": 117,
   "id": "eab51c88-5e20-4f6e-b2de-789b252318ea",
   "metadata": {},
   "outputs": [],
   "source": [
    "# create a function for producing images\n",
    "def show_me(X):\n",
    "    return plt.imshow(X.reshape(28,28))\n",
    "    \n",
    "def show_me_allmean(X,y,k):\n",
    "    show_me(sum(X[y==k,:]/len(X[y==k,:])))"
   ]
  },
  {
   "cell_type": "code",
   "execution_count": 118,
   "id": "65cb092d-5d7c-43b1-a1c0-8538bcb91904",
   "metadata": {},
   "outputs": [
    {
     "data": {
      "text/plain": [
       "<matplotlib.image.AxesImage at 0x1ef8927ad60>"
      ]
     },
     "execution_count": 118,
     "metadata": {},
     "output_type": "execute_result"
    },
    {
     "data": {
      "image/png": "[encoded data removed]",
      "text/plain": [
       "<Figure size 640x480 with 1 Axes>"
      ]
     },
     "metadata": {},
     "output_type": "display_data"
    }
   ],
   "source": [
    "show_me(X[12])"
   ]
  },
  {
   "cell_type": "code",
   "execution_count": 119,
   "id": "d5bab264-243e-4fdc-a5d1-7e7203ff55c2",
   "metadata": {},
   "outputs": [
    {
     "data": {
      "image/png": "[encoded data removed]",
      "text/plain": [
       "<Figure size 640x480 with 1 Axes>"
      ]
     },
     "metadata": {},
     "output_type": "display_data"
    }
   ],
   "source": [
    "# plot the mean for a particular number. 1 in this case\n",
    "show_me_allmean(X, y, 1)"
   ]
  },
  {
   "cell_type": "code",
   "execution_count": 120,
   "id": "0560d7f8-c67b-4598-80ef-fda0400dcc7c",
   "metadata": {},
   "outputs": [
    {
     "data": {
      "image/png": "[encoded data removed]",
      "text/plain": [
       "<Figure size 640x480 with 1 Axes>"
      ]
     },
     "metadata": {},
     "output_type": "display_data"
    }
   ],
   "source": [
    "# plot the mean for a particular number. 3 in this case\n",
    "show_me_allmean(X, y, 3)"
   ]
  },
  {
   "cell_type": "markdown",
   "id": "fbf3163f-5c38-4546-bd31-4e58ed8581e2",
   "metadata": {},
   "source": [
    "## Split Data\n",
    "- this data does not need splitting since we already have test data provided"
   ]
  },
  {
   "cell_type": "code",
   "execution_count": 121,
   "id": "d744de67-01f5-4d76-a0bb-593e0571be48",
   "metadata": {},
   "outputs": [
    {
     "name": "stdout",
     "output_type": "stream",
     "text": [
      "features are (60000, 784), and targets are (60000,)\n"
     ]
    }
   ],
   "source": [
    "# slice the features\n",
    "X_train=x[:,2:]\n",
    "y_train=x[:,1]  # labels\n",
    "print(f'features are {X_train.shape}, and targets are {y_train.shape}')"
   ]
  },
  {
   "cell_type": "code",
   "execution_count": 122,
   "id": "a278ab40-92c4-426f-86f8-5bbc854a1952",
   "metadata": {},
   "outputs": [],
   "source": [
    "# Import test data\n",
    "test_data=pd.read_csv('MNIST_test.csv')"
   ]
  },
  {
   "cell_type": "code",
   "execution_count": 123,
   "id": "69cad3ad-435b-45a0-9ad5-8cf2f13b2d83",
   "metadata": {},
   "outputs": [],
   "source": [
    "test_data.drop(['Unnamed: 0'], axis=1, inplace=True)"
   ]
  },
  {
   "cell_type": "code",
   "execution_count": 124,
   "id": "48efb29e-03d0-4b74-8e78-f24afd48ecff",
   "metadata": {},
   "outputs": [
    {
     "name": "stdout",
     "output_type": "stream",
     "text": [
      "(10000, 784)\n"
     ]
    },
    {
     "data": {
      "text/plain": [
       "(10000,)"
      ]
     },
     "execution_count": 124,
     "metadata": {},
     "output_type": "execute_result"
    }
   ],
   "source": [
    "X_T=test_data.to_numpy()\n",
    "X_=X_T[:,2:]\n",
    "y_ = X_T[:,1]\n",
    "\n",
    "print(X_.shape)\n",
    "y_.shape\n"
   ]
  },
  {
   "cell_type": "code",
   "execution_count": 125,
   "id": "ac678a50-af9b-407e-bbd1-b32a691e1ad2",
   "metadata": {},
   "outputs": [],
   "source": [
    "# Split into validation and testing\n",
    "\n",
    "X_val, X_test, y_val, y_test= train_test_split(\n",
    "    X_, y_, test_size=0.5, random_state=42\n",
    "\n",
    ")"
   ]
  },
  {
   "cell_type": "code",
   "execution_count": 126,
   "id": "e8b14607-277f-4144-a5f6-61d87da3255a",
   "metadata": {},
   "outputs": [
    {
     "name": "stdout",
     "output_type": "stream",
     "text": [
      "(5000, 784) (5000, 784)\n"
     ]
    }
   ],
   "source": [
    "print(X_val.shape, X_test.shape)"
   ]
  },
  {
   "cell_type": "markdown",
   "id": "74ac4d4d-4d65-4057-ae51-23a9e43e6408",
   "metadata": {},
   "source": [
    "# Build Model"
   ]
  },
  {
   "cell_type": "markdown",
   "id": "53c3a5e4-e012-4d9c-8f49-e4f22b93620c",
   "metadata": {},
   "source": [
    "## Baseline"
   ]
  },
  {
   "cell_type": "code",
   "execution_count": 127,
   "id": "65ddaff5-3e92-4369-83b4-9f140dcb521b",
   "metadata": {},
   "outputs": [
    {
     "name": "stdout",
     "output_type": "stream",
     "text": [
      "Baseline Accuracy: 0.11\n"
     ]
    }
   ],
   "source": [
    "acc_baseline=data['labels'].value_counts(normalize=True).max()\n",
    "print(\"Baseline Accuracy:\", round(acc_baseline, 2))"
   ]
  },
  {
   "cell_type": "code",
   "execution_count": 128,
   "id": "c4f4f687-3d34-49be-a118-dc2582bef281",
   "metadata": {},
   "outputs": [],
   "source": [
    "# class MinMaxScaler1():\n",
    "    \n",
    "#     # def  __init__(self, num, deno):\n",
    "#     #     self.num= num\n",
    "#     #     self.deno= deno\n",
    "    \n",
    "#     def fit(self, X):\n",
    "#         num=X-X.min()\n",
    "#         deno=X.max()-X.min()\n",
    "        \n",
    "#         #return self.num, self.deno\n",
    "             \n",
    "        \n",
    "        \n",
    "        \n",
    "#     def transform(self):\n",
    "        \n",
    "#         result=self.num/deno\n",
    "        \n",
    "        \n",
    "#         return  result"
   ]
  },
  {
   "cell_type": "markdown",
   "id": "bebe1997-19ef-4aeb-a419-017946cda76a",
   "metadata": {},
   "source": [
    "# Iterate"
   ]
  },
  {
   "cell_type": "code",
   "execution_count": 129,
   "id": "f16f3db8-c6c5-4e1b-a7f3-e0472cf10976",
   "metadata": {},
   "outputs": [],
   "source": [
    "# Scale the data\n",
    "X_scaled=MinMaxScaler2(X_train)\n"
   ]
  },
  {
   "cell_type": "code",
   "execution_count": 135,
   "id": "92fef529-0336-40a4-87f2-f5837a123b58",
   "metadata": {},
   "outputs": [],
   "source": [
    "# Build Models\n",
    "model1 = GaussNB()\n",
    "model2 = Gauss()\n",
    "model3 = KNeighborsClassifier()"
   ]
  },
  {
   "cell_type": "markdown",
   "id": "b98520f5-8943-4ae2-8934-057a57e121fd",
   "metadata": {},
   "source": [
    "### GaussNB"
   ]
  },
  {
   "cell_type": "code",
   "execution_count": 144,
   "id": "76b5df16-740c-46e1-aa4e-01873be87835",
   "metadata": {},
   "outputs": [
    {
     "data": {
      "text/plain": [
       "{0.0: 0.77, 0.01: 0.8, 0.1: 0.77, 1: 0.66, 10: 0.6}"
      ]
     },
     "execution_count": 144,
     "metadata": {},
     "output_type": "execute_result"
    }
   ],
   "source": [
    "# tune parameters\n",
    "score={}\n",
    "epsilon=[1e-5,1e-4,1e-3,1e-2,1e-1,1,10]\n",
    "for epsilon in epsilon:\n",
    "    model1.fit(X_scaled, y_train, epsilon=epsilon)\n",
    "    y_hat=model1.predict(X_scaled)\n",
    "    score[round(epsilon, 2)]=round(accuracy(y_hat, y_train),2)\n",
    "score"
   ]
  },
  {
   "cell_type": "markdown",
   "id": "98830ca1-1f58-4532-821f-6f30988358ae",
   "metadata": {},
   "source": [
    "--best value for epsilon was 1e-2 which got 80% accuracy\n"
   ]
  },
  {
   "cell_type": "code",
   "execution_count": 145,
   "id": "42db67ce-c328-452f-8c80-347c67bebbd4",
   "metadata": {},
   "outputs": [],
   "source": [
    "# train the best model\n",
    "model1.fit(X_scaled, y_train, epsilon=1e-2)\n",
    "y_hat=model1.predict(X_scaled)"
   ]
  },
  {
   "cell_type": "code",
   "execution_count": 146,
   "id": "d2d7f859-4cd1-4517-bbee-d7702a0d4fb4",
   "metadata": {},
   "outputs": [
    {
     "data": {
      "text/plain": [
       "0.8015833333333333"
      ]
     },
     "execution_count": 146,
     "metadata": {},
     "output_type": "execute_result"
    }
   ],
   "source": [
    "accuracy(y_hat,y_train)"
   ]
  },
  {
   "cell_type": "code",
   "execution_count": null,
   "id": "541978a5-32b8-41fd-a249-bafb19935749",
   "metadata": {},
   "outputs": [],
   "source": []
  },
  {
   "cell_type": "markdown",
   "id": "bc048ad1-4588-4144-a71f-6b00f2da2840",
   "metadata": {
    "tags": []
   },
   "source": [
    "### Gauss"
   ]
  },
  {
   "cell_type": "code",
   "execution_count": 35,
   "id": "2cd35d52-2c62-490a-b90a-4b4ea55b990e",
   "metadata": {},
   "outputs": [
    {
     "data": {
      "text/plain": [
       "{0.0: 0.93, 0.01: 0.96, 0.1: 0.95, 1: 0.88, 10: 0.68}"
      ]
     },
     "execution_count": 35,
     "metadata": {},
     "output_type": "execute_result"
    }
   ],
   "source": [
    "parameters_score={}\n",
    "epsilon=[1e-5,1e-4,1e-3,1e-2,1e-1,1,10]\n",
    "for epsilon in epsilon:\n",
    "    Model2.fit(X_scaled, y_train, epsilon=epsilon)\n",
    "    y_hat=Model2.predict(X_scaled)\n",
    "    parameters_score[round(epsilon,2)]=round(accuracy(y_hat, y_train),2)\n",
    "parameters_score"
   ]
  },
  {
   "cell_type": "markdown",
   "id": "079d521e-6b96-400a-a412-559c7424fb6d",
   "metadata": {},
   "source": [
    "--best value for epsilon was 1e-2 which got 96% accuracy"
   ]
  },
  {
   "cell_type": "code",
   "execution_count": null,
   "id": "be8305a0-05f0-4cc0-9380-58cc83c08574",
   "metadata": {},
   "outputs": [],
   "source": []
  },
  {
   "cell_type": "code",
   "execution_count": 36,
   "id": "b59bfd7d-2ee9-44c2-88b8-72160d1d72b2",
   "metadata": {},
   "outputs": [
    {
     "data": {
      "text/plain": [
       "0.9555333333333333"
      ]
     },
     "execution_count": 36,
     "metadata": {},
     "output_type": "execute_result"
    }
   ],
   "source": [
    "Model2.fit(X_scaled, y_train, epsilon=1e-2)\n",
    "y_hat=Model2.predict(X_scaled)\n",
    "accuracy(y_hat,y_train)\n"
   ]
  },
  {
   "cell_type": "markdown",
   "id": "cd336c8c-f4c0-40be-8dd4-bd5884466788",
   "metadata": {},
   "source": [
    "### KNN Classifier"
   ]
  },
  {
   "cell_type": "code",
   "execution_count": 58,
   "id": "2026ae8f-840a-4681-ad6a-1033546afd58",
   "metadata": {},
   "outputs": [
    {
     "data": {
      "text/plain": [
       "KNeighborsClassifier()"
      ]
     },
     "execution_count": 58,
     "metadata": {},
     "output_type": "execute_result"
    }
   ],
   "source": [
    "Model3.fit(X_scaled, y_train) # KNN Classifier from sklearn"
   ]
  },
  {
   "cell_type": "code",
   "execution_count": 59,
   "id": "7ad9247e-641c-4927-8d1e-f4691b271ca5",
   "metadata": {},
   "outputs": [
    {
     "name": "stderr",
     "output_type": "stream",
     "text": [
      "C:\\Users\\Walee\\anaconda3\\lib\\site-packages\\sklearn\\neighbors\\_classification.py:228: FutureWarning: Unlike other reduction functions (e.g. `skew`, `kurtosis`), the default behavior of `mode` typically preserves the axis it acts along. In SciPy 1.11.0, this behavior will change: the default value of `keepdims` will become False, the `axis` over which the statistic is taken will be eliminated, and the value None will no longer be accepted. Set `keepdims` to True or False to avoid this warning.\n",
      "  mode, _ = stats.mode(_y[neigh_ind, k], axis=1)\n"
     ]
    }
   ],
   "source": [
    "y_hat=Model3.predict(X_scaled)"
   ]
  },
  {
   "cell_type": "code",
   "execution_count": 62,
   "id": "2984ca3a-288f-402f-8b66-657a4057dab7",
   "metadata": {},
   "outputs": [
    {
     "data": {
      "text/plain": [
       "0.9819166666666667"
      ]
     },
     "execution_count": 62,
     "metadata": {},
     "output_type": "execute_result"
    }
   ],
   "source": [
    "accuracy(y_hat,y_train)"
   ]
  },
  {
   "cell_type": "markdown",
   "id": "5fea8875-b125-4d97-a512-5511e50bb3a8",
   "metadata": {},
   "source": [
    "# Evaluate"
   ]
  },
  {
   "cell_type": "markdown",
   "id": "54bb9216-cec0-4b90-82b6-1983b0915d43",
   "metadata": {},
   "source": [
    "## Validation"
   ]
  },
  {
   "cell_type": "code",
   "execution_count": 40,
   "id": "72afb7e6-54c0-4547-9967-718b06c524c3",
   "metadata": {},
   "outputs": [
    {
     "name": "stdout",
     "output_type": "stream",
     "text": [
      "Validation Accuracy GaussNB 0.82\n"
     ]
    }
   ],
   "source": [
    "X_val_scaled=MinMaxScaler2(X_val)\n",
    "y_hat_val=Model1.predict(X_val_scaled)\n",
    "accuracy=accuracy(y_hat_val, y_val)\n",
    "print('Validation Accuracy GaussNB', round(accuracy, 2))"
   ]
  },
  {
   "cell_type": "code",
   "execution_count": 44,
   "id": "5717ce12-4e83-4876-9528-8da631d63e84",
   "metadata": {},
   "outputs": [
    {
     "name": "stdout",
     "output_type": "stream",
     "text": [
      "Validation Accuracy for Gauss 0.91\n"
     ]
    }
   ],
   "source": [
    "y_hat_val=Model2.predict(X_val)\n",
    "accuracy=accuracy(y_hat_val, y_val)\n",
    "print('Validation Accuracy for Gauss', round(accuracy, 2))"
   ]
  },
  {
   "cell_type": "markdown",
   "id": "397786f5-c472-418b-8b64-e50edc2c3fcf",
   "metadata": {},
   "source": [
    "## with test data"
   ]
  },
  {
   "cell_type": "code",
   "execution_count": 63,
   "id": "0e11889d-3a19-43e3-b0f9-7c293a9308c8",
   "metadata": {},
   "outputs": [],
   "source": [
    "def accuracy(y, y_hat):\n",
    "    return np.mean(y==y_hat)"
   ]
  },
  {
   "cell_type": "code",
   "execution_count": 53,
   "id": "b251aafe-ab19-4753-a3d6-2e340375bf03",
   "metadata": {},
   "outputs": [
    {
     "name": "stdout",
     "output_type": "stream",
     "text": [
      "Test Accuracy GaussNB 0.81\n"
     ]
    }
   ],
   "source": [
    "X_test_scaled=MinMaxScaler2(X_test)\n",
    "y_hat_val=Model1.predict(X_test_scaled)\n",
    "accuracy=accuracy(y_hat_val, y_test)\n",
    "print('Test Accuracy GaussNB', round(accuracy, 2))"
   ]
  },
  {
   "cell_type": "code",
   "execution_count": 56,
   "id": "8c1931b8-180a-43c5-b325-7151f6b9e67c",
   "metadata": {},
   "outputs": [
    {
     "name": "stdout",
     "output_type": "stream",
     "text": [
      "Test Accuracy Gauss 0.95\n"
     ]
    }
   ],
   "source": [
    "X_test_scaled=MinMaxScaler2(X_test)\n",
    "y_hat_val=Model2.predict(X_test_scaled)\n",
    "accuracy=accuracy(y_hat_val, y_test)\n",
    "print('Test Accuracy Gauss', round(accuracy, 2))"
   ]
  },
  {
   "cell_type": "code",
   "execution_count": 64,
   "id": "0af334ff-7bcd-4a3a-97fa-c0e47de8246e",
   "metadata": {},
   "outputs": [
    {
     "name": "stderr",
     "output_type": "stream",
     "text": [
      "C:\\Users\\Walee\\anaconda3\\lib\\site-packages\\sklearn\\neighbors\\_classification.py:228: FutureWarning: Unlike other reduction functions (e.g. `skew`, `kurtosis`), the default behavior of `mode` typically preserves the axis it acts along. In SciPy 1.11.0, this behavior will change: the default value of `keepdims` will become False, the `axis` over which the statistic is taken will be eliminated, and the value None will no longer be accepted. Set `keepdims` to True or False to avoid this warning.\n",
      "  mode, _ = stats.mode(_y[neigh_ind, k], axis=1)\n"
     ]
    },
    {
     "name": "stdout",
     "output_type": "stream",
     "text": [
      "Test Accuracy KNN Sklearn 0.97\n"
     ]
    }
   ],
   "source": [
    "X_test_scaled=MinMaxScaler2(X_test)\n",
    "y_hat_val=Model3.predict(X_test_scaled)\n",
    "accuracy=accuracy(y_hat_val, y_test)\n",
    "print('Test Accuracy KNN Sklearn', round(accuracy, 2))"
   ]
  },
  {
   "cell_type": "code",
   "execution_count": 65,
   "id": "70d72b39-9c40-4420-aa68-2b66f0c8a4d7",
   "metadata": {},
   "outputs": [
    {
     "ename": "TypeError",
     "evalue": "'numpy.float64' object is not callable",
     "output_type": "error",
     "traceback": [
      "\u001b[1;31m---------------------------------------------------------------------------\u001b[0m",
      "\u001b[1;31mTypeError\u001b[0m                                 Traceback (most recent call last)",
      "\u001b[1;32m~\\AppData\\Local\\Temp\\ipykernel_9660\\1318810302.py\u001b[0m in \u001b[0;36m<module>\u001b[1;34m\u001b[0m\n\u001b[1;32m----> 1\u001b[1;33m \u001b[0maccuracy\u001b[0m\u001b[1;33m(\u001b[0m\u001b[0my_hat\u001b[0m\u001b[1;33m,\u001b[0m \u001b[0my_train\u001b[0m\u001b[1;33m)\u001b[0m\u001b[1;33m\u001b[0m\u001b[1;33m\u001b[0m\u001b[0m\n\u001b[0m",
      "\u001b[1;31mTypeError\u001b[0m: 'numpy.float64' object is not callable"
     ]
    }
   ],
   "source": [
    "accuracy(y_hat, y_train)"
   ]
  },
  {
   "cell_type": "code",
   "execution_count": null,
   "id": "5bee4c00-f66f-4618-955b-7d9c49c053e4",
   "metadata": {},
   "outputs": [],
   "source": []
  },
  {
   "cell_type": "code",
   "execution_count": null,
   "id": "a12e010b-75ee-4b7e-9737-983afbde5400",
   "metadata": {},
   "outputs": [],
   "source": []
  },
  {
   "cell_type": "code",
   "execution_count": null,
   "id": "69bd1f17-be9b-4fa2-a19d-61fb26df4dfa",
   "metadata": {},
   "outputs": [],
   "source": []
  }
 ],
 "metadata": {
  "kernelspec": {
   "display_name": "Python 3 (ipykernel)",
   "language": "python",
   "name": "python3"
  },
  "language_info": {
   "codemirror_mode": {
    "name": "ipython",
    "version": 3
   },
   "file_extension": ".py",
   "mimetype": "text/x-python",
   "name": "python",
   "nbconvert_exporter": "python",
   "pygments_lexer": "ipython3",
   "version": "3.9.13"
  }
 },
 "nbformat": 4,
 "nbformat_minor": 5
}
